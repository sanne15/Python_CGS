{
 "cells": [
  {
   "cell_type": "markdown",
   "metadata": {},
   "source": [
    "# print() initialization"
   ]
  },
  {
   "cell_type": "code",
   "execution_count": 2,
   "metadata": {},
   "outputs": [
    {
     "name": "stdout",
     "output_type": "stream",
     "text": [
      "print(value, ..., sep=' ', end='\\n', file=sys.stdout, flush=False)\n",
      "\n",
      "Prints the values to a stream, or to sys.stdout by default.\n",
      "Optional keyword arguments:\n",
      "file:  a file-like object (stream); defaults to the current sys.stdout.\n",
      "sep:   string inserted between values, default a space.\n",
      "end:   string appended after the last value, default a newline.\n",
      "flush: whether to forcibly flush the stream.\n"
     ]
    }
   ],
   "source": [
    "print(print.__doc__)"
   ]
  },
  {
   "cell_type": "markdown",
   "metadata": {},
   "source": [
    "## Today's Mission"
   ]
  },
  {
   "cell_type": "code",
   "execution_count": 13,
   "metadata": {},
   "outputs": [
    {
     "name": "stdout",
     "output_type": "stream",
     "text": [
      "Choose a operation\n",
      "A : add\n",
      "M : multiply\n",
      "E : end\n"
     ]
    },
    {
     "name": "stdin",
     "output_type": "stream",
     "text": [
      " m\n"
     ]
    },
    {
     "name": "stdout",
     "output_type": "stream",
     "text": [
      "Enter p, q and r\n"
     ]
    },
    {
     "name": "stdin",
     "output_type": "stream",
     "text": [
      "p : 3\n",
      "q : 50\n",
      "r : 3\n"
     ]
    },
    {
     "name": "stdout",
     "output_type": "stream",
     "text": [
      "Matrix A\n",
      "[3, 0, 2, 3, 1, 2, 2, 0, 3, 2, 0, 2, 0, 2, 3, 2, 1, 1, 3, 3, 0, 3, 1, 3, 0, 3, 2, 3, 2, 0, 2, 3, 2, 1, 3, 1, 0, 3, 0, 2, 2, 3, 2, 0, 0, 1, 2, 2, 1, 1]\n",
      "[0, 0, 3, 3, 0, 0, 2, 0, 0, 0, 2, 3, 2, 1, 3, 2, 2, 1, 1, 2, 0, 3, 0, 2, 0, 0, 3, 3, 1, 2, 2, 0, 2, 0, 1, 2, 1, 1, 3, 0, 2, 1, 0, 2, 1, 1, 1, 0, 0, 3]\n",
      "[1, 0, 1, 0, 0, 2, 2, 2, 1, 2, 3, 2, 2, 3, 2, 2, 0, 0, 0, 2, 2, 2, 0, 0, 3, 0, 0, 0, 0, 0, 3, 0, 3, 0, 1, 2, 1, 2, 2, 1, 0, 3, 1, 0, 0, 1, 0, 3, 1, 1]\n",
      "Matrix B\n",
      "[3, 2, 2]\n",
      "[1, 3, 3]\n",
      "[1, 3, 1]\n",
      "[0, 1, 2]\n",
      "[0, 1, 0]\n",
      "[2, 0, 1]\n",
      "[0, 1, 1]\n",
      "[3, 3, 1]\n",
      "[2, 3, 3]\n",
      "[2, 2, 0]\n",
      "[3, 1, 0]\n",
      "[3, 3, 0]\n",
      "[2, 0, 0]\n",
      "[1, 3, 2]\n",
      "[0, 3, 1]\n",
      "[1, 3, 1]\n",
      "[0, 0, 0]\n",
      "[2, 1, 0]\n",
      "[3, 0, 1]\n",
      "[1, 1, 3]\n",
      "[0, 2, 3]\n",
      "[3, 3, 0]\n",
      "[2, 0, 2]\n",
      "[2, 3, 3]\n",
      "[0, 0, 0]\n",
      "[0, 2, 1]\n",
      "[3, 2, 3]\n",
      "[3, 3, 2]\n",
      "[2, 0, 2]\n",
      "[0, 3, 1]\n",
      "[3, 2, 1]\n",
      "[1, 0, 2]\n",
      "[3, 3, 2]\n",
      "[0, 2, 1]\n",
      "[1, 3, 0]\n",
      "[0, 2, 1]\n",
      "[1, 0, 0]\n",
      "[0, 0, 3]\n",
      "[0, 2, 0]\n",
      "[2, 2, 3]\n",
      "[1, 1, 3]\n",
      "[3, 2, 0]\n",
      "[1, 0, 1]\n",
      "[3, 0, 0]\n",
      "[1, 1, 3]\n",
      "[2, 0, 3]\n",
      "[2, 3, 2]\n",
      "[3, 2, 1]\n",
      "[2, 0, 0]\n",
      "[3, 3, 3]\n",
      "ANS\n",
      "[137, 147, 127]\n",
      "[104, 122, 84]\n",
      "[100, 105, 64]\n",
      "Choose a operation\n",
      "A : add\n",
      "M : multiply\n",
      "E : end\n"
     ]
    },
    {
     "name": "stdin",
     "output_type": "stream",
     "text": [
      " e\n"
     ]
    },
    {
     "name": "stdout",
     "output_type": "stream",
     "text": [
      "Goodbye!\n"
     ]
    }
   ],
   "source": [
    "from random import randint\n",
    "def gen(p, q):\n",
    "    x = []\n",
    "    for i in range(p):\n",
    "        tmp = []\n",
    "        for j in range(q):\n",
    "            tmp.append(randint(0, 3))\n",
    "        x.append(tmp)\n",
    "    return x\n",
    "\n",
    "def print_mat(lst):\n",
    "    for i in range(len(lst)):\n",
    "        print(lst[i])\n",
    "    return        \n",
    "        \n",
    "def input_value(s):\n",
    "    try:\n",
    "        tp = int(input(s+' :'))\n",
    "        if tp <= 0:\n",
    "            print('Enter a positive integer')\n",
    "            return -1\n",
    "        return tp\n",
    "    except:\n",
    "        print('Enter an integer')\n",
    "        return -1\n",
    "\n",
    "def add_mat():\n",
    "    print('Enter p and q')\n",
    "    p = input_value('p'); \n",
    "    if p == -1:\n",
    "        return\n",
    "    q = input_value('q')\n",
    "    if q == -1:\n",
    "        return\n",
    "    a = gen(p, q)\n",
    "    b = gen(p, q)\n",
    "    ans = []\n",
    "    for i in range(p):\n",
    "        tmp = []\n",
    "        for j in range(q):\n",
    "            tmp.append(a[i][j] + b[i][j])\n",
    "        ans.append(tmp)\n",
    "    print('Matrix A'); print_mat(a)\n",
    "    print('Matrix B'); print_mat(b)\n",
    "    print('ANS'); print_mat(ans)\n",
    "        \n",
    "    \n",
    "def mtp_mat():\n",
    "    print('Enter p, q and r')\n",
    "    p = input_value('p'); \n",
    "    if p == -1:\n",
    "        return\n",
    "    q = input_value('q')\n",
    "    if q == -1:\n",
    "        return\n",
    "    r = input_value('r')\n",
    "    if r == -1:\n",
    "        return\n",
    "    a = gen(p, q)\n",
    "    b = gen(q, r)    \n",
    "    ans = [[sum([a[i][k] * b[k][j] for k in range(q)]) for j in range(r)] for i in range(p)]\n",
    "    '''\n",
    "    Code below is a sample which is equivalent with the upper code\n",
    "    for i in range(p):\n",
    "        tmp = []\n",
    "        for j in range(r):\n",
    "            tmp2 = 0\n",
    "            for k in range(q):\n",
    "                tmp2 += a[i][k] * b[k][j]\n",
    "            tmp.append(tmp2)\n",
    "        ans.append(tmp)\n",
    "    '''\n",
    "    print('Matrix A'); print_mat(a)\n",
    "    print('Matrix B'); print_mat(b)\n",
    "    print('ANS'); print_mat(ans)\n",
    "    \n",
    "while(True):\n",
    "    print('Matrix operation program', 'Choose a operation', 'A : add', 'M : multiply', 'E : end', sep='\\n')\n",
    "    x = input()\n",
    "    x = x.upper() #대소문자 동일처리\n",
    "    if x == 'A':\n",
    "        add_mat()\n",
    "    elif x == 'M':\n",
    "        mtp_mat()\n",
    "    elif x == 'E':\n",
    "        print('Goodbye!')\n",
    "        break"
   ]
  },
  {
   "cell_type": "code",
   "execution_count": 18,
   "metadata": {},
   "outputs": [],
   "source": [
    "def det(matrix):\n",
    "    # Base case: if the matrix is 1x1, return its only element\n",
    "    if len(matrix) == 1:\n",
    "        return matrix[0][0]\n",
    "\n",
    "    # Recursive case: use Laplace expansion to calculate the determinant\n",
    "    det = 0\n",
    "    sign = 1\n",
    "    for j in range(len(matrix)):\n",
    "        # Create the submatrix by removing the first row and j-th column\n",
    "        submatrix = [row[:j] + row[j+1:] for row in matrix[1:]]\n",
    "        # Calculate the determinant of the submatrix recursively\n",
    "        subdet = determinant(submatrix)\n",
    "        # Add the contribution of this term to the determinant\n",
    "        det += sign * matrix[0][j] * subdet\n",
    "        # Flip the sign for the next term\n",
    "        sign = -sign\n",
    "    return det"
   ]
  },
  {
   "cell_type": "code",
   "execution_count": null,
   "metadata": {},
   "outputs": [],
   "source": [
    "det()"
   ]
  },
  {
   "cell_type": "code",
   "execution_count": 3,
   "metadata": {},
   "outputs": [
    {
     "data": {
      "text/plain": [
       "False"
      ]
     },
     "execution_count": 3,
     "metadata": {},
     "output_type": "execute_result"
    }
   ],
   "source": [
    "type(3)!=int"
   ]
  },
  {
   "cell_type": "code",
   "execution_count": 8,
   "metadata": {},
   "outputs": [
    {
     "name": "stdout",
     "output_type": "stream",
     "text": [
      "Help on built-in function sum in module builtins:\n",
      "\n",
      "sum(iterable, start=0, /)\n",
      "    Return the sum of a 'start' value (default: 0) plus an iterable of numbers\n",
      "    \n",
      "    When the iterable is empty, return the start value.\n",
      "    This function is intended specifically for use with numeric values and may\n",
      "    reject non-numeric types.\n",
      "\n"
     ]
    }
   ],
   "source": [
    "help(sum)"
   ]
  },
  {
   "cell_type": "code",
   "execution_count": 15,
   "metadata": {},
   "outputs": [
    {
     "data": {
      "text/plain": [
       "'def getsource(object):\\n    \"\"\"Return the text of the source code for an object.\\n\\n    The argument may be a module, class, method, function, traceback, frame,\\n    or code object.  The source code is returned as a single string.  An\\n    OSError is raised if the source code cannot be retrieved.\"\"\"\\n    lines, lnum = getsourcelines(object)\\n    return \\'\\'.join(lines)\\n'"
      ]
     },
     "execution_count": 15,
     "metadata": {},
     "output_type": "execute_result"
    }
   ],
   "source": [
    "import inspect as ip\n",
    "ip.getsource(ip.getsource)"
   ]
  },
  {
   "cell_type": "code",
   "execution_count": 17,
   "metadata": {},
   "outputs": [
    {
     "ename": "NameError",
     "evalue": "name 'join' is not defined",
     "output_type": "error",
     "traceback": [
      "\u001b[1;31m---------------------------------------------------------------------------\u001b[0m",
      "\u001b[1;31mNameError\u001b[0m                                 Traceback (most recent call last)",
      "\u001b[1;32m<ipython-input-17-457e937ff984>\u001b[0m in \u001b[0;36m<module>\u001b[1;34m\u001b[0m\n\u001b[1;32m----> 1\u001b[1;33m \u001b[0mjoin\u001b[0m\u001b[1;33m(\u001b[0m\u001b[1;33m)\u001b[0m\u001b[1;33m\u001b[0m\u001b[1;33m\u001b[0m\u001b[0m\n\u001b[0m",
      "\u001b[1;31mNameError\u001b[0m: name 'join' is not defined"
     ]
    }
   ],
   "source": []
  },
  {
   "cell_type": "code",
   "execution_count": null,
   "metadata": {},
   "outputs": [],
   "source": []
  }
 ],
 "metadata": {
  "kernelspec": {
   "display_name": "Python 3",
   "language": "python",
   "name": "python3"
  },
  "language_info": {
   "codemirror_mode": {
    "name": "ipython",
    "version": 3
   },
   "file_extension": ".py",
   "mimetype": "text/x-python",
   "name": "python",
   "nbconvert_exporter": "python",
   "pygments_lexer": "ipython3",
   "version": "3.7.6"
  }
 },
 "nbformat": 4,
 "nbformat_minor": 4
}
