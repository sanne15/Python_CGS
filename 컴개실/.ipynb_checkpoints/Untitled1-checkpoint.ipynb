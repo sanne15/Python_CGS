{
 "cells": [
  {
   "cell_type": "code",
   "execution_count": null,
   "metadata": {},
   "outputs": [],
   "source": [
    "import pygame \n",
    "\n",
    "pygame.init() # initialization\n",
    "\n",
    "# initialize display\n",
    "screen_width = 600\n",
    "screen_height = 800\n",
    "screen = pygame.display.set_mode((screen_width, screen_height))\n",
    "pygame.display.set_caption(\"yy?\")\n",
    "\n",
    "# Run until the user asks to quit\n",
    "running = True\n",
    "while running:\n",
    "    # Main Event Loop\n",
    "    for event in pygame.event.get():\n",
    "        if event.type == pygame.QUIT: # If user clicked close button\n",
    "            running = False\n",
    "            \n",
    "    # Set the screen background\n",
    "    screen.fill((186, 180, 245)) # screen.fill('taro')\n",
    "    \n",
    "    # Update the screen\n",
    "    pygame.display.flip()\n",
    "    \n",
    "pygame.quit()"
   ]
  }
 ],
 "metadata": {
  "kernelspec": {
   "display_name": "Python 3",
   "language": "python",
   "name": "python3"
  },
  "language_info": {
   "codemirror_mode": {
    "name": "ipython",
    "version": 3
   },
   "file_extension": ".py",
   "mimetype": "text/x-python",
   "name": "python",
   "nbconvert_exporter": "python",
   "pygments_lexer": "ipython3",
   "version": "3.7.6"
  }
 },
 "nbformat": 4,
 "nbformat_minor": 4
}
