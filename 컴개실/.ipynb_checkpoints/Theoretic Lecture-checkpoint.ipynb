{
 "cells": [
  {
   "cell_type": "markdown",
   "metadata": {},
   "source": [
    "# Type : List"
   ]
  },
  {
   "cell_type": "code",
   "execution_count": null,
   "metadata": {},
   "outputs": [],
   "source": []
  },
  {
   "cell_type": "markdown",
   "metadata": {},
   "source": [
    "## range()"
   ]
  },
  {
   "cell_type": "code",
   "execution_count": null,
   "metadata": {},
   "outputs": [],
   "source": []
  },
  {
   "cell_type": "markdown",
   "metadata": {},
   "source": [
    "# Generating Random Numbers (random)"
   ]
  },
  {
   "cell_type": "markdown",
   "metadata": {},
   "source": [
    "## seed(), random(), _"
   ]
  },
  {
   "cell_type": "code",
   "execution_count": 10,
   "metadata": {},
   "outputs": [
    {
     "name": "stdout",
     "output_type": "stream",
     "text": [
      "0.13436424411240122\n",
      "0.8474337369372327\n",
      "0.763774618976614\n",
      "0.9560342718892494\n",
      "0.9478274870593494\n",
      "0.05655136772680869\n",
      "10\n",
      "200\n",
      "600\n",
      "4000\n"
     ]
    }
   ],
   "source": [
    "from random import seed, random\n",
    "\n",
    "seed(1) # RNG seed settings\n",
    "for i in range(3):\n",
    "    print(random()) # generates random number in range [0, 1) \n",
    "    \n",
    "seed(2)\n",
    "for i in range(3):\n",
    "    print(random())\n",
    "    \n",
    "print(10)\n",
    "print(_) # stores the value of last expression in interpreter\n",
    "print(_*3)\n",
    "_*3\n",
    "print(_*20)"
   ]
  },
  {
   "cell_type": "code",
   "execution_count": 12,
   "metadata": {},
   "outputs": [
    {
     "name": "stdout",
     "output_type": "stream",
     "text": [
      "2\n",
      "9\n",
      "1\n",
      "4\n",
      "1\n",
      "7\n",
      "7\n",
      "7\n",
      "10\n",
      "6\n",
      "2.338166736175902\n",
      "-0.6628539080668208\n",
      "0.394859621231163\n",
      "0.14652144723938165\n",
      "0.8351485796673621\n",
      "-1.4021097884728553\n",
      "-0.41477790514903395\n",
      "-0.7514601527127819\n",
      "-1.0746327428812226\n",
      "-0.8438288140833818\n"
     ]
    }
   ],
   "source": [
    "# Generating Random Integer values\n",
    "from random import seed, randint\n",
    "\n",
    "seed(1)\n",
    "for _ in range(10):\n",
    "    value = randint(0, 10)\n",
    "    print(value)\n",
    "\n",
    "# Generating Random 'Gaussian' Values\n",
    "from random import gauss\n",
    "\n",
    "seed(2)\n",
    "for _ in range(10):\n",
    "    value = gauss(0, 1)\n",
    "    print(value)"
   ]
  },
  {
   "cell_type": "code",
   "execution_count": 18,
   "metadata": {},
   "outputs": [
    {
     "name": "stdout",
     "output_type": "stream",
     "text": [
      "[0, 1, 2, 3, 4, 5, 6, 7, 8, 9, 10, 11, 12, 13, 14, 15, 16, 17, 18, 19]\n",
      "4\n",
      "18\n",
      "2\n",
      "8\n",
      "3\n",
      "\n",
      "\n",
      "[0, 1, 2, 3, 4, 5, 6, 7, 8, 9, 10, 11, 12, 13, 14, 15, 16, 17, 18, 19]\n",
      "[1, 2, 18, 11, 5]\n",
      "\n",
      "\n",
      "[0, 1, 2, 3, 4, 5, 6, 7, 8, 9, 10, 11, 12, 13, 14, 15, 16, 17, 18, 19]\n",
      "[8, 3, 6, 5, 15, 16, 2, 12, 0, 1, 13, 10, 19, 9, 14, 11, 4, 17, 18, 7]\n"
     ]
    }
   ],
   "source": [
    "# Random Choice from a list\n",
    "from random import choice\n",
    "\n",
    "seed(1)\n",
    "seq = [i for i in range(20)]\n",
    "print(seq)\n",
    "for _ in range(5):\n",
    "    selec = choice(seq)\n",
    "    print(selec)\n",
    "print('\\n')\n",
    "\n",
    "# Random Subset from a list\n",
    "from random import sample\n",
    "\n",
    "seed(2)\n",
    "seq = [i for i in range(20)]\n",
    "print(seq)\n",
    "subset = sample(seq, 5) # Selecting a subset without replacement\n",
    "print(subset)\n",
    "print('\\n')\n",
    "\n",
    "# Randomly Shuffling a list\n",
    "from random import shuffle\n",
    "\n",
    "seed(3)\n",
    "seq = [i for i in range(20)]\n",
    "print(seq)\n",
    "shuffle(seq)\n",
    "print(seq)"
   ]
  },
  {
   "cell_type": "code",
   "execution_count": 17,
   "metadata": {},
   "outputs": [
    {
     "data": {
      "text/plain": [
       "<function builtin_function_or_method.__dir__()>"
      ]
     },
     "execution_count": 17,
     "metadata": {},
     "output_type": "execute_result"
    }
   ],
   "source": [
    "random.__dir__"
   ]
  },
  {
   "cell_type": "markdown",
   "metadata": {},
   "source": [
    "# RNG with Numpy"
   ]
  },
  {
   "cell_type": "code",
   "execution_count": 19,
   "metadata": {},
   "outputs": [
    {
     "name": "stdin",
     "output_type": "stream",
     "text": [
      "put your name Minjae Kim\n"
     ]
    },
    {
     "name": "stdout",
     "output_type": "stream",
     "text": [
      "Minjae Kim\n"
     ]
    }
   ],
   "source": [
    "from numpy.random import seed, rand\n",
    "# seed : override\n",
    "seed(5)\n",
    "rand(5)\n",
    "\n",
    "#input?\n",
    "print(input('put your name'))"
   ]
  },
  {
   "cell_type": "markdown",
   "metadata": {},
   "source": [
    "# Methods that acts on List"
   ]
  },
  {
   "cell_type": "markdown",
   "metadata": {},
   "source": [
    "#### .append, .extend, len(list), .insert, .index, .count etc. "
   ]
  },
  {
   "cell_type": "code",
   "execution_count": 20,
   "metadata": {},
   "outputs": [
    {
     "data": {
      "text/plain": [
       "['__add__',\n",
       " '__class__',\n",
       " '__contains__',\n",
       " '__delattr__',\n",
       " '__delitem__',\n",
       " '__dir__',\n",
       " '__doc__',\n",
       " '__eq__',\n",
       " '__format__',\n",
       " '__ge__',\n",
       " '__getattribute__',\n",
       " '__getitem__',\n",
       " '__gt__',\n",
       " '__hash__',\n",
       " '__iadd__',\n",
       " '__imul__',\n",
       " '__init__',\n",
       " '__init_subclass__',\n",
       " '__iter__',\n",
       " '__le__',\n",
       " '__len__',\n",
       " '__lt__',\n",
       " '__mul__',\n",
       " '__ne__',\n",
       " '__new__',\n",
       " '__reduce__',\n",
       " '__reduce_ex__',\n",
       " '__repr__',\n",
       " '__reversed__',\n",
       " '__rmul__',\n",
       " '__setattr__',\n",
       " '__setitem__',\n",
       " '__sizeof__',\n",
       " '__str__',\n",
       " '__subclasshook__',\n",
       " 'append',\n",
       " 'clear',\n",
       " 'copy',\n",
       " 'count',\n",
       " 'extend',\n",
       " 'index',\n",
       " 'insert',\n",
       " 'pop',\n",
       " 'remove',\n",
       " 'reverse',\n",
       " 'sort']"
      ]
     },
     "execution_count": 20,
     "metadata": {},
     "output_type": "execute_result"
    }
   ],
   "source": [
    "dir(list)"
   ]
  },
  {
   "cell_type": "markdown",
   "metadata": {},
   "source": [
    "# List Comprehension : 조건제시법"
   ]
  },
  {
   "cell_type": "code",
   "execution_count": 22,
   "metadata": {},
   "outputs": [
    {
     "name": "stdout",
     "output_type": "stream",
     "text": [
      "[0, 1, 4, 9, 16, 25, 36, 49, 64, 81] [1, 2, 4, 8, 16, 32, 64, 128, 256, 512, 1024, 2048, 4096] [0, 4, 16, 36, 64]\n"
     ]
    }
   ],
   "source": [
    "S = [x**2 for x in range(10)]\n",
    "V = [2**i for i in range(13)]\n",
    "M = [x for x in S if x % 2 == 0]\n",
    "print(S, V, M)\n",
    "\n",
    "'''\n",
    "newlist = [expression for item in iterable if condition]\n",
    "iterable ~= set\n",
    "'''"
   ]
  },
  {
   "cell_type": "markdown",
   "metadata": {},
   "source": [
    "# Let's process Strings!"
   ]
  },
  {
   "cell_type": "code",
   "execution_count": 24,
   "metadata": {},
   "outputs": [
    {
     "name": "stdout",
     "output_type": "stream",
     "text": [
      "dcba4321\n"
     ]
    }
   ],
   "source": [
    "def str_rev(str1):\n",
    "    rstr1 = ''\n",
    "    idx = len(str1)\n",
    "    while idx > 0:\n",
    "        rstr1 += str1[idx-1]\n",
    "        idx -= 1\n",
    "    return rstr1\n",
    "\n",
    "print(str_rev('1234abcd'))\n",
    "\n",
    "# Python : list of characters == string\n",
    "# > can access characters with square brackets\n",
    "# '', \"\", ''' every declaration is OK for gen. strings"
   ]
  },
  {
   "cell_type": "code",
   "execution_count": 29,
   "metadata": {},
   "outputs": [
    {
     "name": "stdout",
     "output_type": "stream",
     "text": [
      "4\n"
     ]
    }
   ],
   "source": [
    "def wordlen(sent):\n",
    "    tmp = 1\n",
    "    for i in range(len(sent)):\n",
    "        if(sent[i].isspace()):\n",
    "            tmp += 1\n",
    "    return tmp\n",
    "\n",
    "print(wordlen('What are you doing??'))"
   ]
  },
  {
   "cell_type": "code",
   "execution_count": 26,
   "metadata": {},
   "outputs": [
    {
     "data": {
      "text/plain": [
       "['__add__',\n",
       " '__class__',\n",
       " '__contains__',\n",
       " '__delattr__',\n",
       " '__dir__',\n",
       " '__doc__',\n",
       " '__eq__',\n",
       " '__format__',\n",
       " '__ge__',\n",
       " '__getattribute__',\n",
       " '__getitem__',\n",
       " '__getnewargs__',\n",
       " '__gt__',\n",
       " '__hash__',\n",
       " '__init__',\n",
       " '__init_subclass__',\n",
       " '__iter__',\n",
       " '__le__',\n",
       " '__len__',\n",
       " '__lt__',\n",
       " '__mod__',\n",
       " '__mul__',\n",
       " '__ne__',\n",
       " '__new__',\n",
       " '__reduce__',\n",
       " '__reduce_ex__',\n",
       " '__repr__',\n",
       " '__rmod__',\n",
       " '__rmul__',\n",
       " '__setattr__',\n",
       " '__sizeof__',\n",
       " '__str__',\n",
       " '__subclasshook__',\n",
       " 'capitalize',\n",
       " 'casefold',\n",
       " 'center',\n",
       " 'count',\n",
       " 'encode',\n",
       " 'endswith',\n",
       " 'expandtabs',\n",
       " 'find',\n",
       " 'format',\n",
       " 'format_map',\n",
       " 'index',\n",
       " 'isalnum',\n",
       " 'isalpha',\n",
       " 'isascii',\n",
       " 'isdecimal',\n",
       " 'isdigit',\n",
       " 'isidentifier',\n",
       " 'islower',\n",
       " 'isnumeric',\n",
       " 'isprintable',\n",
       " 'isspace',\n",
       " 'istitle',\n",
       " 'isupper',\n",
       " 'join',\n",
       " 'ljust',\n",
       " 'lower',\n",
       " 'lstrip',\n",
       " 'maketrans',\n",
       " 'partition',\n",
       " 'replace',\n",
       " 'rfind',\n",
       " 'rindex',\n",
       " 'rjust',\n",
       " 'rpartition',\n",
       " 'rsplit',\n",
       " 'rstrip',\n",
       " 'split',\n",
       " 'splitlines',\n",
       " 'startswith',\n",
       " 'strip',\n",
       " 'swapcase',\n",
       " 'title',\n",
       " 'translate',\n",
       " 'upper',\n",
       " 'zfill']"
      ]
     },
     "execution_count": 26,
     "metadata": {},
     "output_type": "execute_result"
    }
   ],
   "source": [
    "dir(str)"
   ]
  },
  {
   "cell_type": "markdown",
   "metadata": {},
   "source": [
    "# Talking about Import"
   ]
  },
  {
   "cell_type": "code",
   "execution_count": null,
   "metadata": {},
   "outputs": [],
   "source": [
    "'''\n",
    "import module\n",
    "print(module.method())\n",
    "print(module.var)\n",
    "'''\n",
    "\n",
    "'''\n",
    "from module import (var or method)\n",
    "print(var)\n",
    "method(argument)\n",
    "'''"
   ]
  },
  {
   "cell_type": "code",
   "execution_count": null,
   "metadata": {},
   "outputs": [],
   "source": [
    "'''\n",
    "importing my own module\n",
    "\n",
    "from myLibrary import f1\n",
    "x=f1(\"aaa\") # alright!\n",
    "'''"
   ]
  },
  {
   "cell_type": "markdown",
   "metadata": {},
   "source": [
    "# Study Matrix Algebra"
   ]
  },
  {
   "cell_type": "code",
   "execution_count": null,
   "metadata": {},
   "outputs": [],
   "source": []
  },
  {
   "cell_type": "markdown",
   "metadata": {},
   "source": [
    "# Immutable vs Mutable Objects"
   ]
  },
  {
   "cell_type": "code",
   "execution_count": null,
   "metadata": {},
   "outputs": [],
   "source": [
    "# Mutable : list, set, dict >> Very tricky... Study it\n",
    "# Immutable : str, int, float, bool, tuple, unicode"
   ]
  },
  {
   "cell_type": "code",
   "execution_count": 31,
   "metadata": {},
   "outputs": [
    {
     "name": "stdout",
     "output_type": "stream",
     "text": [
      "2335306869576 2335306869576\n",
      "2335306869576 2335306869576\n",
      "[10] [10]\n"
     ]
    }
   ],
   "source": [
    "#id() : returns a identity for each obj as an integer\n",
    "a = [1]\n",
    "b = a\n",
    "print(id(a), id(b))\n",
    "b[0] = 10\n",
    "print(id(a), id(b))\n",
    "\n",
    "print(a, b)"
   ]
  },
  {
   "cell_type": "code",
   "execution_count": null,
   "metadata": {},
   "outputs": [],
   "source": [
    "#is operator compare the identity of two objects\n",
    "# >> id() comparing\n",
    "# == operator compare the values"
   ]
  },
  {
   "cell_type": "code",
   "execution_count": 36,
   "metadata": {},
   "outputs": [
    {
     "name": "stdout",
     "output_type": "stream",
     "text": [
      "2335306091656 2335306091656\n",
      "True\n",
      "2335306091656 2335311345224\n",
      "False\n",
      "[1, 2, 3] [10, 2, 3]\n"
     ]
    }
   ],
   "source": [
    "# Cloning a list\n",
    "import copy\n",
    "a = [1, 2, 3]\n",
    "b = a\n",
    "print(id(a), id(b))\n",
    "print(a is b)\n",
    "\n",
    "b = copy.deepcopy(a)\n",
    "print(id(a), id(b))\n",
    "print(a is b)\n",
    "\n",
    "b[0] = 10\n",
    "print(a, b)"
   ]
  },
  {
   "cell_type": "markdown",
   "metadata": {},
   "source": [
    "# Argument Passing Mechanisms"
   ]
  },
  {
   "cell_type": "markdown",
   "metadata": {},
   "source": [
    "## In C : call by value & call by reference"
   ]
  },
  {
   "cell_type": "code",
   "execution_count": null,
   "metadata": {},
   "outputs": [],
   "source": [
    "# C : value call L call-by-value\n",
    "# pointer(address) call : call-by-reference"
   ]
  },
  {
   "cell_type": "markdown",
   "metadata": {},
   "source": [
    "## Python : call by assignment"
   ]
  },
  {
   "cell_type": "code",
   "execution_count": 39,
   "metadata": {},
   "outputs": [
    {
     "name": "stdout",
     "output_type": "stream",
     "text": [
      "140712799543952\n",
      "x = 9  id = 140712799543952\n",
      "x = 42  id = 140712799545008\n",
      "140712799543952\n",
      "9\n"
     ]
    }
   ],
   "source": [
    "# passing immutable argument in python\n",
    "\n",
    "def ref_demo(x):\n",
    "    print(\"x =\", x, \" id =\", id(x))\n",
    "    x=42\n",
    "    print(\"x =\", x, \" id =\", id(x))\n",
    "    \n",
    "x=9\n",
    "print(id(x))\n",
    "ref_demo(x)\n",
    "print(id(x))\n",
    "print(x)\n",
    "\n",
    "# Python initially behaves like call-by-reference\n",
    "# When we change the value of variable, Python switches to call-by-value"
   ]
  },
  {
   "cell_type": "code",
   "execution_count": 40,
   "metadata": {},
   "outputs": [
    {
     "name": "stdout",
     "output_type": "stream",
     "text": [
      "[0, 1, 1, 2, 3, 5, 8]\n",
      "[47, 11]\n",
      "[0, 1, 1, 2, 3, 5, 8] \n",
      "\n",
      "[0, 0, 2, 3, 1, 5, 22343]\n",
      "[0, 0, 2, 3, 1, 5, 22343, 47, 11]\n",
      "[0, 0, 2, 3, 1, 5, 22343, 47, 11]\n"
     ]
    }
   ],
   "source": [
    "def func1(list):\n",
    "    print(list)\n",
    "    list = [47, 11] # Assignment\n",
    "    print(list)\n",
    "    \n",
    "fib = [0, 1, 1, 2, 3, 5, 8]\n",
    "func1(fib)\n",
    "print(fib, '\\n')\n",
    "\n",
    "def func2(list):\n",
    "    print(list)\n",
    "    list += [47, 11] # Modification\n",
    "    print(list)\n",
    "\n",
    "rong = [0, 0, 2, 3, 1, 5, 22343]\n",
    "func2(rong)\n",
    "print(rong)"
   ]
  }
 ],
 "metadata": {
  "kernelspec": {
   "display_name": "Python 3",
   "language": "python",
   "name": "python3"
  },
  "language_info": {
   "codemirror_mode": {
    "name": "ipython",
    "version": 3
   },
   "file_extension": ".py",
   "mimetype": "text/x-python",
   "name": "python",
   "nbconvert_exporter": "python",
   "pygments_lexer": "ipython3",
   "version": "3.7.6"
  }
 },
 "nbformat": 4,
 "nbformat_minor": 4
}
