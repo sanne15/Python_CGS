{
 "cells": [
  {
   "cell_type": "markdown",
   "metadata": {},
   "source": [
    "## Value, type, and variable"
   ]
  },
  {
   "cell_type": "code",
   "execution_count": 2,
   "metadata": {},
   "outputs": [
    {
     "name": "stdout",
     "output_type": "stream",
     "text": [
      "1 <class 'int'> 1.1 <class 'float'>\n",
      "Hello <class 'str'>\n",
      "True False <class 'bool'> <class 'bool'>\n",
      "10 <class 'int'> abc <class 'str'>\n",
      "False\n"
     ]
    }
   ],
   "source": [
    "print(1, type(1), 1.1, type(1.1))\n",
    "print(\"Hello\", type(\"Hello\"))\n",
    "print(True, False, type(True), type(False))\n",
    "\n",
    "var1 = 10\n",
    "var2 = 'abc'\n",
    "print(var1, type(var1), var2, type(var2))\n",
    "print(isinstance(var1, type(var2)))"
   ]
  },
  {
   "cell_type": "code",
   "execution_count": 3,
   "metadata": {},
   "outputs": [
    {
     "name": "stdout",
     "output_type": "stream",
     "text": [
      "1\n"
     ]
    }
   ],
   "source": [
    "print(5//3)"
   ]
  },
  {
   "cell_type": "code",
   "execution_count": 5,
   "metadata": {},
   "outputs": [
    {
     "data": {
      "text/plain": [
       "True"
      ]
     },
     "execution_count": 5,
     "metadata": {},
     "output_type": "execute_result"
    }
   ],
   "source": [
    "var1 is var1"
   ]
  },
  {
   "cell_type": "markdown",
   "metadata": {},
   "source": [
    "## Operator & comment"
   ]
  },
  {
   "cell_type": "code",
   "execution_count": 6,
   "metadata": {},
   "outputs": [
    {
     "name": "stdout",
     "output_type": "stream",
     "text": [
      "11.0\n",
      "True\n",
      "abcabcabcabc123\n",
      "False\n",
      "True\n",
      "True\n",
      "8\n"
     ]
    }
   ],
   "source": [
    "var1, var2, var3 = 2.5, 4, 5\n",
    "var4, var5, var6 = \"abc\", \"acb\", \"123\"\n",
    "\n",
    "# results\n",
    "result1 = (var1//2 + 1) * (var2**2 - var3) / 2\n",
    "result2 = result1 >= var3\n",
    "result3 = var4*4 + var6\n",
    "result4 = var4 < var5 and var4 < var6\n",
    "result5 = result3 is not result4\n",
    "result6 = var2^var3 < var2|var3\n",
    "result7 = var2<<1\n",
    "\"\"\"\n",
    "Print\n",
    "all results\n",
    "\"\"\"\n",
    "print(result1)\n",
    "print(result2)\n",
    "print(result3)\n",
    "print(result4)\n",
    "print(result5)\n",
    "print(result6)\n",
    "print(result7)"
   ]
  },
  {
   "cell_type": "code",
   "execution_count": 9,
   "metadata": {},
   "outputs": [
    {
     "name": "stdout",
     "output_type": "stream",
     "text": [
      "Requirement already satisfied: pygame in c:\\users\\sec\\anaconda3\\lib\\site-packages (1.9.6)\n",
      "Note: you may need to restart the kernel to use updated packages.\n"
     ]
    }
   ],
   "source": [
    "pip install pygame"
   ]
  },
  {
   "cell_type": "markdown",
   "metadata": {},
   "source": [
    "## Pygame"
   ]
  },
  {
   "cell_type": "code",
   "execution_count": 7,
   "metadata": {},
   "outputs": [],
   "source": [
    "import pygame \n",
    "\n",
    "pygame.init() # initialization\n",
    "\n",
    "# initialize display\n",
    "screen_width = 600\n",
    "screen_height = 800\n",
    "screen = pygame.display.set_mode((screen_width, screen_height))\n",
    "pygame.display.set_caption(\"yy?\")\n",
    "\n",
    "# Run until the user asks to quit\n",
    "running = True\n",
    "while running:\n",
    "    # Main Event Loop\n",
    "    for event in pygame.event.get():\n",
    "        if event.type == pygame.QUIT: # If user clicked close button\n",
    "            running = False\n",
    "            \n",
    "    # Set the screen background\n",
    "    screen.fill((186, 180, 245)) # screen.fill('taro')\n",
    "    \n",
    "    # Update the screen\n",
    "    pygame.display.flip()\n",
    "    \n",
    "pygame.quit()"
   ]
  },
  {
   "cell_type": "code",
   "execution_count": 2,
   "metadata": {},
   "outputs": [
    {
     "name": "stdout",
     "output_type": "stream",
     "text": [
      "str(object='') -> str\n",
      "str(bytes_or_buffer[, encoding[, errors]]) -> str\n",
      "\n",
      "Create a new string object from the given object. If encoding or\n",
      "errors is specified, then the object must expose a data buffer\n",
      "that will be decoded using the given encoding and error handler.\n",
      "Otherwise, returns the result of object.__str__() (if defined)\n",
      "or repr(object).\n",
      "encoding defaults to sys.getdefaultencoding().\n",
      "errors defaults to 'strict'.\n"
     ]
    }
   ],
   "source": [
    "print(str.__doc__)"
   ]
  },
  {
   "cell_type": "code",
   "execution_count": null,
   "metadata": {},
   "outputs": [],
   "source": []
  }
 ],
 "metadata": {
  "kernelspec": {
   "display_name": "Python 3",
   "language": "python",
   "name": "python3"
  },
  "language_info": {
   "codemirror_mode": {
    "name": "ipython",
    "version": 3
   },
   "file_extension": ".py",
   "mimetype": "text/x-python",
   "name": "python",
   "nbconvert_exporter": "python",
   "pygments_lexer": "ipython3",
   "version": "3.7.6"
  }
 },
 "nbformat": 4,
 "nbformat_minor": 4
}
