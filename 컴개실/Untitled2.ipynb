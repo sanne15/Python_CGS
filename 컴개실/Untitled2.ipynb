{
 "cells": [
  {
   "cell_type": "code",
   "execution_count": 1,
   "metadata": {},
   "outputs": [
    {
     "name": "stdout",
     "output_type": "stream",
     "text": [
      "Matrix operation program\n",
      "Choose a operation\n",
      "A : add\n",
      "M : multiply\n",
      "E : end\n"
     ]
    },
    {
     "name": "stdin",
     "output_type": "stream",
     "text": [
      " a\n"
     ]
    },
    {
     "name": "stdout",
     "output_type": "stream",
     "text": [
      "Enter p and q\n"
     ]
    },
    {
     "name": "stdin",
     "output_type": "stream",
     "text": [
      "p : 3\n",
      "q : 5\n"
     ]
    },
    {
     "name": "stdout",
     "output_type": "stream",
     "text": [
      "Matrix A\n",
      "[2, 0, 3, 3, 1]\n",
      "[2, 3, 0, 0, 3]\n",
      "[2, 3, 2, 2, 1]\n",
      "Matrix B\n",
      "[2, 0, 2, 1, 2]\n",
      "[2, 3, 0, 0, 2]\n",
      "[1, 0, 2, 1, 0]\n",
      "ANS\n",
      "[4, 0, 5, 4, 3]\n",
      "[4, 6, 0, 0, 5]\n",
      "[3, 3, 4, 3, 1]\n",
      "Matrix operation program\n",
      "Choose a operation\n",
      "A : add\n",
      "M : multiply\n",
      "E : end\n"
     ]
    },
    {
     "name": "stdin",
     "output_type": "stream",
     "text": [
      " e\n"
     ]
    },
    {
     "name": "stdout",
     "output_type": "stream",
     "text": [
      "Goodbye!\n"
     ]
    }
   ],
   "source": [
    "from random import randint\n",
    "def gen(p, q):\n",
    "    x = []\n",
    "    for i in range(p):\n",
    "        tmp = []\n",
    "        for j in range(q):\n",
    "            tmp.append(randint(0, 3))\n",
    "        x.append(tmp)\n",
    "    return x\n",
    "\n",
    "def print_mat(lst):\n",
    "    for i in range(len(lst)):\n",
    "        print(lst[i])\n",
    "    return        \n",
    "        \n",
    "def input_value(s):\n",
    "    try:\n",
    "        tp = int(input(s+' :'))\n",
    "        if tp <= 0:\n",
    "            print('Enter a positive integer')\n",
    "            return -1\n",
    "        return tp\n",
    "    except:\n",
    "        print('Enter an integer')\n",
    "        return -1\n",
    "\n",
    "def add_mat():\n",
    "    print('Enter p and q')\n",
    "    p = input_value('p'); \n",
    "    if p == -1:\n",
    "        return\n",
    "    q = input_value('q')\n",
    "    if q == -1:\n",
    "        return\n",
    "    a = gen(p, q)\n",
    "    b = gen(p, q)\n",
    "    ans = []\n",
    "    for i in range(p):\n",
    "        tmp = []\n",
    "        for j in range(q):\n",
    "            tmp.append(a[i][j] + b[i][j])\n",
    "        ans.append(tmp)\n",
    "    print('Matrix A'); print_mat(a)\n",
    "    print('Matrix B'); print_mat(b)\n",
    "    print('ANS'); print_mat(ans)\n",
    "        \n",
    "    \n",
    "def mtp_mat():\n",
    "    print('Enter p, q and r')\n",
    "    p = input_value('p'); \n",
    "    if p == -1:\n",
    "        return\n",
    "    q = input_value('q')\n",
    "    if q == -1:\n",
    "        return\n",
    "    r = input_value('r')\n",
    "    if r == -1:\n",
    "        return\n",
    "    a = gen(p, q)\n",
    "    b = gen(q, r)    \n",
    "    ans = [[sum([a[i][k] * b[k][j] for k in range(q)]) for j in range(r)] for i in range(p)]\n",
    "    '''\n",
    "    Code below is a sample which is equivalent with the upper code\n",
    "    for i in range(p):\n",
    "        tmp = []\n",
    "        for j in range(r):\n",
    "            tmp2 = 0\n",
    "            for k in range(q):\n",
    "                tmp2 += a[i][k] * b[k][j]\n",
    "            tmp.append(tmp2)\n",
    "        ans.append(tmp)\n",
    "    '''\n",
    "    print('Matrix A'); print_mat(a)\n",
    "    print('Matrix B'); print_mat(b)\n",
    "    print('ANS'); print_mat(ans)\n",
    "    \n",
    "while(True):\n",
    "    print('Matrix operation program', 'Choose a operation', 'A : add', 'M : multiply', 'E : end', sep='\\n')\n",
    "    x = input()\n",
    "    x = x.upper() #대소문자 동일처리\n",
    "    if x == 'A':\n",
    "        add_mat()\n",
    "    elif x == 'M':\n",
    "        mtp_mat()\n",
    "    elif x == 'E':\n",
    "        print('Goodbye!')\n",
    "        break"
   ]
  },
  {
   "cell_type": "code",
   "execution_count": null,
   "metadata": {},
   "outputs": [],
   "source": []
  }
 ],
 "metadata": {
  "kernelspec": {
   "display_name": "Python 3",
   "language": "python",
   "name": "python3"
  },
  "language_info": {
   "codemirror_mode": {
    "name": "ipython",
    "version": 3
   },
   "file_extension": ".py",
   "mimetype": "text/x-python",
   "name": "python",
   "nbconvert_exporter": "python",
   "pygments_lexer": "ipython3",
   "version": "3.7.6"
  }
 },
 "nbformat": 4,
 "nbformat_minor": 4
}
