{
 "cells": [
  {
   "cell_type": "code",
   "execution_count": 1,
   "metadata": {},
   "outputs": [
    {
     "name": "stdout",
     "output_type": "stream",
     "text": [
      "<class '__main__.Quadrangle'>\n",
      "<class '__main__.Rectangle'>\n",
      "Center: (1, 2)\n",
      "Center: (2, 1)\n",
      "Width: 5\n",
      "Height: 6\n",
      "\n",
      "{'x': 1, 'y': 2}\n",
      "{'x': 2, 'y': 1, 'width': 5, 'height': 6} \n",
      "\n",
      "(<class 'object'>,)\n",
      "(<class '__main__.Quadrangle'>,) \n",
      "\n",
      "4\n",
      "4 90.0 \n",
      "\n",
      "4 \n",
      "\n",
      "[<class '__main__.Quadrangle'>, <class 'object'>]\n",
      "[<class '__main__.Rectangle'>, <class '__main__.Quadrangle'>, <class 'object'>]\n"
     ]
    }
   ],
   "source": [
    "class Quadrangle:\n",
    "#class Quadrangle():\n",
    "#class Quadrangle(object):\n",
    "    cntVertex = 4\n",
    "    def __init__(self, x, y):\n",
    "        self.x = x\n",
    "        self.y = y\n",
    "    def print(self):\n",
    "        print(f\"Center: ({self.x}, {self.y})\" )\n",
    "class Rectangle(Quadrangle):\n",
    "    internalAngle = 90.0\n",
    "    def __init__(self, x, y, width, height):\n",
    "        super().__init__(x, y)\n",
    "        #super(Rectangle, self).__init__(x, y)\n",
    "        #Quadrangle.__init__(self, x, y)\n",
    "        self.width = width;\n",
    "        self.height = height\n",
    "    def print(self):\n",
    "        super().print()\n",
    "        print(f\"Width: {self.width}\")\n",
    "        print(f\"Height: {self.height}\")\n",
    "\n",
    "        \n",
    "quad = Quadrangle(1, 2)\n",
    "rect = Rectangle(2, 1, 5, 6)\n",
    "print(Quadrangle) #print(quad.__class__)\n",
    "print(Rectangle) #print(rect.__class__)\n",
    "quad.print()\n",
    "rect.print()\n",
    "print()\n",
    "print(quad.__dict__)\n",
    "print(rect.__dict__, \"\\n\")\n",
    "print(quad.__class__.__bases__)\n",
    "print(rect.__class__.__bases__, \"\\n\")\n",
    "print(quad.cntVertex)\n",
    "print(rect.cntVertex, rect.internalAngle, \"\\n\")\n",
    "print(rect.__class__.__bases__[0].cntVertex, \"\\n\")\n",
    "print(Quadrangle.mro())\n",
    "print(Rectangle.mro())"
   ]
  },
  {
   "cell_type": "code",
   "execution_count": 1,
   "metadata": {},
   "outputs": [
    {
     "name": "stdout",
     "output_type": "stream",
     "text": [
      "pygame 2.3.0 (SDL 2.24.2, Python 3.10.9)\n",
      "Hello from the pygame community. https://www.pygame.org/contribute.html\n",
      "1 pressed\n",
      "1 pressed\n",
      "5 pressed\n",
      "- pressed\n",
      "- pressed\n",
      "= pressed\n",
      "= pressed\n",
      "= pressed\n"
     ]
    }
   ],
   "source": [
    "import pygame\n",
    "# initialize\n",
    "pygame.init()\n",
    "screen_width, screen_height = 320, 320\n",
    "screen = pygame.display.set_mode((screen_width, screen_height))\n",
    "pygame.display.set_caption(\"(Advanced) Keyboard input\")\n",
    "# keydown\n",
    "def keydown(key):\n",
    "    if key == pygame.K_1:\n",
    "        print(\"1 pressed\")\n",
    "    elif key == pygame.K_EXCLAIM:\n",
    "        print(\"! pressed\")\n",
    "    elif key == pygame.K_5:\n",
    "        print(\"5 pressed\")\n",
    "    #elif key == pygame.K_??:\n",
    "    # print(\"% pressed\")\n",
    "    elif key == pygame.K_MINUS:\n",
    "        print(\"- pressed\")\n",
    "    elif key == pygame.K_UNDERSCORE:\n",
    "        print(\"_ pressed\")\n",
    "    elif key == pygame.K_EQUALS:\n",
    "        print(\"= pressed\")\n",
    "    elif key == pygame.K_PLUS:\n",
    "        print(\"+ pressed\")\n",
    "\n",
    "# Run until the user asks to quit\n",
    "running = True\n",
    "while running:\n",
    "    # Main Event Loop\n",
    "    for event in pygame.event.get():\n",
    "        if event.type == pygame.QUIT:\n",
    "            running = False\n",
    "        elif event.type == pygame.KEYDOWN:\n",
    "            keydown(event.key)\n",
    "    screen.fill('white') # draw\n",
    "    # Update the screen\n",
    "    pygame.display.flip()\n",
    "pygame.quit()"
   ]
  },
  {
   "cell_type": "code",
   "execution_count": null,
   "metadata": {},
   "outputs": [],
   "source": [
    "1"
   ]
  }
 ],
 "metadata": {
  "kernelspec": {
   "display_name": "base",
   "language": "python",
   "name": "python3"
  },
  "language_info": {
   "codemirror_mode": {
    "name": "ipython",
    "version": 3
   },
   "file_extension": ".py",
   "mimetype": "text/x-python",
   "name": "python",
   "nbconvert_exporter": "python",
   "pygments_lexer": "ipython3",
   "version": "3.10.9"
  },
  "orig_nbformat": 4
 },
 "nbformat": 4,
 "nbformat_minor": 2
}
